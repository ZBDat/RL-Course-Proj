{
 "cells": [
  {
   "cell_type": "markdown",
   "metadata": {},
   "source": [
    "# Inverted Pendulum Problem\n",
    "\n",
    "The state and control vectors $\\textbf{x}$ and $\\textbf{u}$ are defined as follows:\n",
    "\n",
    "$$\n",
    "\\begin{equation*}\n",
    "\\textbf{x} = \\begin{bmatrix}\n",
    "    \\theta & \\dot{\\theta}\n",
    "    \\end{bmatrix}\n",
    "\\end{equation*}\n",
    "$$\n",
    "\n",
    "$$\n",
    "\\begin{equation*}\n",
    "\\textbf{u} = \\begin{bmatrix}\n",
    "    \\tau\n",
    "    \\end{bmatrix}\n",
    "\\end{equation*}\n",
    "$$\n",
    "\n",
    "The goal is to swing the pendulum upright:\n",
    "\n",
    "$$\n",
    "\\begin{equation*}\n",
    "\\textbf{x}_{goal} = \\begin{bmatrix}\n",
    "    0 & 0\n",
    "    \\end{bmatrix}\n",
    "\\end{equation*}\n",
    "$$\n",
    "\n",
    "In order to deal with potential angle wrap-around issues (i.e. $2\\pi = 0$), we\n",
    "augment the state as follows and use that instead:\n",
    "\n",
    "$$\n",
    "\\begin{equation*}\n",
    "\\textbf{x}_{augmented} = \\begin{bmatrix}\n",
    "    \\sin\\theta & \\cos\\theta & \\dot{\\theta}\n",
    "    \\end{bmatrix}\n",
    "\\end{equation*}\n",
    "$$\n",
    "\n",
    "**Note**: The torque is constrained between $-1$ and $1$. This is achieved by\n",
    "instead fitting for unconstrained actions and then applying it to a squashing\n",
    "function $\\tanh(\\textbf{u})$. This is directly embedded into the dynamics model\n",
    "in order to be auto-differentiated. This also means that we need to apply this\n",
    "transformation manually to the output of our iLQR at the end."
   ]
  },
  {
   "cell_type": "code",
   "execution_count": 1,
   "metadata": {},
   "outputs": [],
   "source": [
    "%matplotlib inline"
   ]
  },
  {
   "cell_type": "code",
   "execution_count": 2,
   "metadata": {},
   "outputs": [],
   "source": [
    "from __future__ import print_function"
   ]
  },
  {
   "cell_type": "code",
   "execution_count": 3,
   "metadata": {},
   "outputs": [],
   "source": [
    "import numpy as np\n",
    "import matplotlib.pyplot as plt"
   ]
  },
  {
   "cell_type": "code",
   "execution_count": 4,
   "metadata": {},
   "outputs": [
    {
     "name": "stderr",
     "output_type": "stream",
     "text": [
      "WARNING (theano.configdefaults): g++ not available, if using conda: `conda install m2w64-toolchain`\n",
      "C:\\Users\\LENOVO\\Anaconda3\\envs\\i2dl\\lib\\site-packages\\theano-1.0.5-py3.7.egg\\theano\\configdefaults.py:560: UserWarning: DeprecationWarning: there is no c++ compiler.This is deprecated and with Theano 0.11 a c++ compiler will be mandatory\n",
      "  warnings.warn(\"DeprecationWarning: there is no c++ compiler.\"\n",
      "WARNING (theano.configdefaults): g++ not detected ! Theano will be unable to execute optimized C-implementations (for both CPU and GPU) and will default to Python implementations. Performance will be severely degraded. To remove this warning, set Theano flags cxx to an empty string.\n",
      "WARNING (theano.tensor.blas): Using NumPy C-API based implementation for BLAS functions.\n"
     ]
    }
   ],
   "source": [
    "from ilqr import iLQR\n",
    "from ilqr.cost import QRCost\n",
    "from ilqr.dynamics import constrain\n",
    "from ilqr.examples.pendulum import InvertedPendulumDynamics"
   ]
  },
  {
   "cell_type": "code",
   "execution_count": 5,
   "metadata": {},
   "outputs": [],
   "source": [
    "def on_iteration(iteration_count, xs, us, J_opt, accepted, converged):\n",
    "    J_hist.append(J_opt)\n",
    "    info = \"converged\" if converged else (\"accepted\" if accepted else \"failed\")\n",
    "    final_state = dynamics.reduce_state(xs[-1])\n",
    "    print(\"iteration\", iteration_count, info, J_opt, final_state)"
   ]
  },
  {
   "cell_type": "code",
   "execution_count": 6,
   "metadata": {},
   "outputs": [],
   "source": [
    "dt = 0.02\n",
    "pendulum_length = 1.0\n",
    "dynamics = InvertedPendulumDynamics(dt, l=pendulum_length)"
   ]
  },
  {
   "cell_type": "code",
   "execution_count": 7,
   "metadata": {},
   "outputs": [],
   "source": [
    "# Note that the augmented state is not all 0.\n",
    "x_goal = dynamics.augment_state(np.array([0.0, 0.0]))\n",
    "Q = np.eye(dynamics.state_size)\n",
    "Q[0, 1] = Q[1, 0] = pendulum_length\n",
    "Q[0, 0] = Q[1, 1] = pendulum_length**2\n",
    "Q[2, 2] = 0.0\n",
    "Q_terminal = 100 * np.eye(dynamics.state_size)\n",
    "R = np.array([[0.1]])\n",
    "cost = QRCost(Q, R, Q_terminal=Q_terminal, x_goal=x_goal)"
   ]
  },
  {
   "cell_type": "code",
   "execution_count": 8,
   "metadata": {},
   "outputs": [],
   "source": [
    "N = 300\n",
    "x0 = dynamics.augment_state(np.array([np.pi, 0.0]))\n",
    "us_init = np.random.uniform(-1, 1, (N, dynamics.action_size))\n",
    "ilqr = iLQR(dynamics, cost, N)"
   ]
  },
  {
   "cell_type": "code",
   "execution_count": 9,
   "metadata": {},
   "outputs": [
    {
     "name": "stdout",
     "output_type": "stream",
     "text": [
      "iteration 0 accepted 1500.2946100307936 [-2.88389753  0.32571506]\n",
      "iteration 1 accepted 1454.1772198981798 [-2.86534323  0.24391766]\n",
      "iteration 2 accepted 1443.2942892636463 [-2.83313573  0.19652248]\n",
      "iteration 3 accepted 1443.0628189307295 [-2.74716841  0.12991366]\n",
      "iteration 4 accepted 1432.9293431131352 [-2.67021614  0.1327548 ]\n",
      "iteration 5 accepted 1426.3379763974663 [-2.44149973  0.13718921]\n",
      "iteration 6 accepted 1403.6185470082903 [-2.2834358   0.15537462]\n",
      "iteration 7 accepted 1370.709467135222 [-1.90567506  0.22628133]\n",
      "iteration 8 accepted 1341.577411888017 [-1.78768085  0.22279056]\n",
      "iteration 9 accepted 1290.658813420027 [-1.45375605  0.23017235]\n",
      "iteration 10 accepted 1225.9901601648862 [-1.28952546  0.3101438 ]\n",
      "iteration 11 accepted 1166.2430519259387 [-0.95367415  0.36973825]\n",
      "iteration 12 accepted 1106.362464190563 [-0.8184492   0.41728114]\n",
      "iteration 13 accepted 1077.739195727948 [-0.58392579  0.50528327]\n",
      "iteration 14 accepted 1077.1117292886902 [-0.48628335  0.59040949]\n",
      "iteration 15 accepted 1065.2254719084065 [-0.42956222  0.25356882]\n",
      "iteration 16 accepted 985.8326056839634 [-0.35983084  0.26472867]\n",
      "iteration 17 accepted 978.0828199696097 [-0.27283444  0.2126216 ]\n",
      "iteration 18 accepted 935.302972286539 [-0.23343731  0.25827912]\n",
      "iteration 19 accepted 924.4490139009814 [-0.22459526  0.17557633]\n",
      "iteration 20 accepted 900.9936662824365 [-0.19021821  0.20165683]\n",
      "iteration 21 accepted 896.2475301744022 [-0.19684842  0.12038396]\n",
      "iteration 22 accepted 876.6241330801835 [-0.17946662  0.12353482]\n",
      "iteration 23 accepted 876.3906579696372 [-0.17305015  0.08289582]\n",
      "iteration 24 accepted 855.5987822480846 [-0.16508948  0.0833358 ]\n",
      "iteration 25 accepted 847.0223542897444 [-0.16038825  0.06962648]\n",
      "iteration 26 accepted 838.9564062327693 [-0.15653274  0.06536278]\n",
      "iteration 27 accepted 834.174086830938 [-0.15193954  0.05982314]\n",
      "iteration 28 accepted 829.4012963225931 [-0.14918745  0.05806995]\n",
      "iteration 29 accepted 826.1584413634647 [-0.14523587  0.05596968]\n",
      "iteration 30 accepted 823.3577024574165 [-0.14300423  0.05509501]\n",
      "iteration 31 accepted 821.1335472668036 [-0.13961585  0.05390565]\n",
      "iteration 32 accepted 819.3700865779457 [-0.1376394   0.05326847]\n",
      "iteration 33 accepted 817.7625852722011 [-0.13454098  0.05231742]\n",
      "iteration 34 accepted 816.448008154399 [-0.13267737  0.05174465]\n",
      "iteration 35 accepted 815.4940475076284 [-0.12969556  0.05085313]\n",
      "iteration 36 accepted 814.3596414343031 [-0.12787251  0.05029405]\n",
      "iteration 37 accepted 814.0056104446172 [-0.12492506  0.04940934]\n",
      "iteration 38 accepted 812.9295534945127 [-0.12311591  0.04884932]\n",
      "iteration 39 accepted 807.1042803758686 [-0.1213846  0.0483168]\n",
      "iteration 40 accepted 806.3842274324275 [-0.11971855  0.04779801]\n",
      "iteration 41 accepted 805.9130193098512 [-0.11809762  0.04729033]\n",
      "iteration 42 accepted 805.8907822084886 [-0.11552054  0.04649005]\n",
      "iteration 43 accepted 805.5252125635756 [-0.1139872  0.0460003]\n",
      "iteration 44 accepted 804.8961900800109 [-0.11245595  0.04551174]\n",
      "iteration 45 accepted 804.6100658510766 [-0.11094445  0.04502988]\n",
      "iteration 46 accepted 804.2792540808399 [-0.10945097  0.04455308]\n",
      "iteration 47 accepted 804.0404889782102 [-0.10797833  0.04408248]\n",
      "iteration 48 accepted 803.7842194711125 [-0.1065241   0.04361687]\n",
      "iteration 49 accepted 803.5689217254319 [-0.10509019  0.04315715]\n",
      "iteration 50 accepted 803.3533858697235 [-0.10367494  0.04270246]\n",
      "iteration 51 accepted 803.1640698842301 [-0.10227943  0.04225337]\n",
      "iteration 52 accepted 802.9792493756062 [-0.1009026   0.04180931]\n",
      "iteration 53 accepted 802.971508669402 [-0.09870638  0.04110929]\n",
      "iteration 54 accepted 802.7792519325884 [-0.09739789  0.04068125]\n",
      "iteration 55 accepted 802.5364382712645 [-0.09609588  0.0402563 ]\n",
      "iteration 56 accepted 802.3618475985439 [-0.09480982  0.03983677]\n",
      "iteration 57 accepted 802.1853524555946 [-0.09354294  0.03942352]\n",
      "iteration 58 accepted 802.0295518367882 [-0.09229504  0.03901609]\n",
      "iteration 59 accepted 801.8762267400085 [-0.09106658  0.03861465]\n",
      "iteration 60 accepted 801.7354453177421 [-0.08985706  0.03821885]\n",
      "iteration 61 accepted 801.5973256744239 [-0.08866676  0.03782888]\n",
      "iteration 62 accepted 801.467864401357 [-0.08749534  0.03744451]\n",
      "iteration 63 accepted 801.3402316471138 [-0.08634296  0.03706593]\n",
      "iteration 64 accepted 801.2186776955602 [-0.08520926  0.03669295]\n",
      "iteration 65 accepted 801.0981526525239 [-0.08409425  0.03632569]\n",
      "iteration 66 accepted 800.9820348224762 [-0.0829975   0.03596398]\n",
      "iteration 67 accepted 800.970024435955 [-0.08125029  0.0353943 ]\n",
      "iteration 68 accepted 800.8560929218035 [-0.08021322  0.0350483 ]\n",
      "iteration 69 accepted 800.6868761560876 [-0.07918376  0.03470573]\n",
      "iteration 70 accepted 800.5731920139406 [-0.07816833  0.03436817]\n",
      "iteration 71 accepted 800.4433534029849 [-0.07716878  0.03403604]\n",
      "iteration 72 accepted 800.336132246727 [-0.07618529  0.03370909]\n",
      "iteration 73 accepted 800.2228545536152 [-0.07521784  0.03338731]\n",
      "iteration 74 accepted 800.1221732037094 [-0.07426612  0.03307045]\n",
      "iteration 75 accepted 800.0189771169579 [-0.07332993  0.03275851]\n",
      "iteration 76 accepted 799.9236833766207 [-0.0724089   0.03245127]\n",
      "iteration 77 accepted 799.8271729659971 [-0.0715028   0.03214874]\n",
      "iteration 78 accepted 799.7359074106099 [-0.07061122  0.03185074]\n",
      "iteration 79 accepted 799.6438937895991 [-0.0697339   0.03155725]\n",
      "iteration 80 accepted 799.6364753004278 [-0.06833467  0.0310941 ]\n",
      "iteration 81 accepted 799.5300109385254 [-0.06750302  0.03081302]\n",
      "iteration 82 accepted 799.4162627194236 [-0.06667747  0.03053461]\n",
      "iteration 83 accepted 799.3199492682241 [-0.06586262  0.03026023]\n",
      "iteration 84 accepted 799.2201996302491 [-0.06505964  0.0299899 ]\n",
      "iteration 85 accepted 799.1299101278039 [-0.06426889  0.02972374]\n",
      "iteration 86 accepted 799.0385949380461 [-0.06349019  0.02946146]\n",
      "iteration 87 accepted 798.9530701758748 [-0.06272345  0.02920312]\n",
      "iteration 88 accepted 798.8678739981733 [-0.06196835  0.02894846]\n",
      "iteration 89 accepted 798.7864214628498 [-0.06122473  0.02869751]\n",
      "iteration 90 accepted 798.7058694966609 [-0.06049224  0.02845006]\n",
      "iteration 91 accepted 798.6277017075423 [-0.05977066  0.02820612]\n",
      "iteration 92 accepted 798.6163278376691 [-0.05861819  0.02782036]\n",
      "iteration 93 accepted 798.5313052607631 [-0.0579316   0.02758594]\n",
      "iteration 94 accepted 798.4284748772087 [-0.05724963  0.02735352]\n",
      "iteration 95 accepted 798.3481464325245 [-0.05657555  0.02712414]\n",
      "iteration 96 accepted 798.2597823562194 [-0.05591029  0.02689778]\n",
      "iteration 97 accepted 798.1827379540872 [-0.05525412  0.02667454]\n",
      "iteration 98 accepted 798.102082671053 [-0.05460695  0.02645422]\n",
      "iteration 99 accepted 798.0276403092964 [-0.05396871  0.02623687]\n",
      "iteration 100 accepted 797.9517632798862 [-0.05333924  0.02602232]\n",
      "iteration 101 accepted 797.8794353090437 [-0.05271843  0.02581061]\n",
      "iteration 102 accepted 797.8764839548919 [-0.05172566  0.02547533]\n",
      "iteration 103 accepted 797.7983168883911 [-0.05113324  0.02527142]\n",
      "iteration 104 accepted 797.694440475802 [-0.05054464  0.02506917]\n",
      "iteration 105 accepted 797.6192797565234 [-0.04996238  0.02486941]\n",
      "iteration 106 accepted 797.5330097661473 [-0.04938726  0.0246721 ]\n",
      "iteration 107 accepted 797.4601894922288 [-0.04881946  0.02447733]\n",
      "iteration 108 accepted 797.3822512686996 [-0.04825889  0.02428492]\n",
      "iteration 109 accepted 797.3112762457487 [-0.04770544  0.02409489]\n",
      "iteration 110 accepted 797.2380468221552 [-0.04715893  0.02390708]\n",
      "iteration 111 accepted 797.1687146465292 [-0.04661925  0.02372152]\n",
      "iteration 112 accepted 797.156711995006 [-0.04575495  0.02342715]\n",
      "iteration 113 accepted 797.0828844753635 [-0.04523809  0.02324777]\n",
      "iteration 114 accepted 796.9847239198915 [-0.04472414  0.02306968]\n",
      "iteration 115 accepted 796.9134898494134 [-0.04421512  0.02289354]\n",
      "iteration 116 accepted 796.8320199144127 [-0.04371182  0.02271935]\n",
      "iteration 117 accepted 796.76290153985 [-0.04321441  0.02254721]\n",
      "iteration 118 accepted 796.6889974934555 [-0.04272291  0.02237698]\n",
      "iteration 119 accepted 796.6211066727556 [-0.04223721  0.0222087 ]\n",
      "iteration 120 accepted 796.550737270664 [-0.04175723  0.02204224]\n",
      "iteration 121 accepted 796.5334619284552 [-0.04098774  0.02177803]\n",
      "iteration 122 accepted 796.4461402611964 [-0.04052708  0.02161681]\n",
      "iteration 123 accepted 796.3604447050088 [-0.04006863  0.02145677]\n",
      "iteration 124 accepted 796.2816683538414 [-0.03961418  0.02129828]\n"
     ]
    },
    {
     "name": "stdout",
     "output_type": "stream",
     "text": [
      "iteration 125 accepted 796.2047053784296 [-0.03916435  0.0211415 ]\n",
      "iteration 126 accepted 796.1306280028678 [-0.0387194   0.02098635]\n",
      "iteration 127 accepted 796.057874490238 [-0.03827932  0.02083287]\n",
      "iteration 128 accepted 796.0542577519523 [-0.03757329  0.02058894]\n",
      "iteration 129 accepted 795.9694135609341 [-0.03715029  0.02044005]\n",
      "iteration 130 accepted 795.8687924000131 [-0.0367293   0.02029206]\n",
      "iteration 131 accepted 795.7924729659367 [-0.03631174  0.02014546]\n",
      "iteration 132 accepted 795.709463303476 [-0.03589827  0.02000025]\n",
      "iteration 133 accepted 795.6365822595567 [-0.03548896  0.01985651]\n",
      "iteration 134 accepted 795.5604444175951 [-0.03508389  0.01971412]\n",
      "iteration 135 accepted 795.4887841660346 [-0.03468293  0.01957311]\n",
      "iteration 136 accepted 795.470597595052 [-0.03403894  0.01934877]\n",
      "iteration 137 accepted 795.3914220645299 [-0.0336526   0.01921166]\n",
      "iteration 138 accepted 795.2833540189482 [-0.03326778  0.0190753 ]\n",
      "iteration 139 accepted 795.2055866689321 [-0.03288574  0.01894014]\n",
      "iteration 140 accepted 795.1168982012248 [-0.03250716  0.01880619]\n",
      "iteration 141 accepted 795.0404976875792 [-0.03213215  0.01867351]\n",
      "iteration 142 accepted 794.9594239281217 [-0.03176088  0.01854203]\n",
      "iteration 143 accepted 794.9387210797921 [-0.03116414  0.01833279]\n",
      "iteration 144 accepted 794.8342650937346 [-0.03080626  0.01820477]\n",
      "iteration 145 accepted 794.740586079059 [-0.03044956  0.01807743]\n",
      "iteration 146 accepted 794.6515620152975 [-0.03009533  0.01795103]\n",
      "iteration 147 accepted 794.5672348716136 [-0.02974396  0.01782567]\n",
      "iteration 148 accepted 794.483988008502 [-0.02939569  0.01770131]\n",
      "iteration 149 accepted 794.4684907679022 [-0.02883516  0.01750318]\n",
      "iteration 150 accepted 794.3678250827064 [-0.02849858  0.0173818 ]\n",
      "iteration 151 accepted 794.2519822897328 [-0.02816283  0.01726096]\n",
      "iteration 152 accepted 794.1606540067182 [-0.02782916  0.01714094]\n",
      "iteration 153 accepted 794.0663553613381 [-0.027498    0.01702184]\n",
      "iteration 154 accepted 793.9792498784723 [-0.0271696   0.01690365]\n",
      "iteration 155 accepted 793.9616341475753 [-0.0266407  0.0167152]\n",
      "iteration 156 accepted 793.8630143148829 [-0.02632308  0.01659967]\n",
      "iteration 157 accepted 793.7274608163557 [-0.02600608  0.01648458]\n",
      "iteration 158 accepted 793.6326438294892 [-0.02569085  0.01637017]\n",
      "iteration 159 accepted 793.5291993241201 [-0.02537776  0.01625651]\n",
      "iteration 160 accepted 793.4375375264276 [-0.02506703  0.01614358]\n",
      "iteration 161 accepted 793.4114883670495 [-0.02456597  0.01596329]\n",
      "iteration 162 accepted 793.3137247981772 [-0.02426486  0.01585255]\n",
      "iteration 163 accepted 793.1664995517277 [-0.02396408  0.0157421 ]\n",
      "iteration 164 accepted 793.0694693539361 [-0.02366471  0.01563218]\n",
      "iteration 165 accepted 792.9607518875308 [-0.02336713  0.01552287]\n",
      "iteration 166 accepted 792.9509838550771 [-0.02288667  0.01534816]\n",
      "iteration 167 accepted 792.8057926021418 [-0.02259763  0.01524076]\n",
      "iteration 168 accepted 792.6755592820599 [-0.02230877  0.01513351]\n",
      "iteration 169 accepted 792.5627751472135 [-0.02202088  0.01502671]\n",
      "iteration 170 accepted 792.453043357809 [-0.02173459  0.01492039]\n",
      "iteration 171 accepted 792.4386508695045 [-0.0212717   0.01475032]\n",
      "iteration 172 accepted 792.306984802098 [-0.02099338  0.01464561]\n",
      "iteration 173 accepted 792.1535120751345 [-0.02071489  0.01454096]\n",
      "iteration 174 accepted 792.0413962595984 [-0.02043734  0.01443662]\n",
      "iteration 175 accepted 791.9268448756507 [-0.02016101  0.01433265]\n",
      "iteration 176 accepted 791.9095162280877 [-0.01971376  0.01416611]\n",
      "iteration 177 accepted 791.7665835041231 [-0.01944453  0.01406343]\n",
      "iteration 178 accepted 791.6147016055369 [-0.01917501  0.0139607 ]\n",
      "iteration 179 accepted 791.4982071323116 [-0.01890591  0.01385822]\n",
      "iteration 180 accepted 791.3791375171626 [-0.01863796  0.01375603]\n",
      "iteration 181 accepted 791.3526277792646 [-0.01820357  0.0135923 ]\n",
      "iteration 182 accepted 791.206225089389 [-0.0179426   0.01349127]\n",
      "iteration 183 accepted 791.0593016978801 [-0.01768103  0.01339016]\n",
      "iteration 184 accepted 790.9414304160598 [-0.01742001  0.01328919]\n",
      "iteration 185 accepted 790.8263669617572 [-0.01715982  0.01318844]\n",
      "iteration 186 accepted 790.7882630630404 [-0.0167376   0.01302685]\n",
      "iteration 187 accepted 790.6516007149735 [-0.01648375  0.01292708]\n",
      "iteration 188 accepted 790.4986638937864 [-0.01622929  0.01282716]\n",
      "iteration 189 accepted 790.3836447245864 [-0.01597499  0.0127274 ]\n",
      "iteration 190 accepted 790.265045443002 [-0.01572167  0.01262787]\n",
      "iteration 191 accepted 790.2222345765483 [-0.0153101   0.01246826]\n",
      "iteration 192 accepted 790.0783113289576 [-0.01506357  0.01236974]\n",
      "iteration 193 accepted 789.9417355545121 [-0.0148162   0.01227106]\n",
      "iteration 194 accepted 789.8255892441488 [-0.01456915  0.01217248]\n",
      "iteration 195 accepted 789.8073450409659 [-0.01416689  0.01201428]\n",
      "iteration 196 accepted 789.6757300299645 [-0.0139258   0.01191664]\n",
      "iteration 197 accepted 789.4944143496327 [-0.01368376  0.01181889]\n",
      "iteration 198 accepted 789.37885998047 [-0.01344212  0.01172131]\n",
      "iteration 199 accepted 789.3774996872809 [-0.01304867  0.01156478]\n"
     ]
    }
   ],
   "source": [
    "J_hist = []\n",
    "xs, us = ilqr.fit(x0, us_init, n_iterations=200, on_iteration=on_iteration)"
   ]
  },
  {
   "cell_type": "code",
   "execution_count": 10,
   "metadata": {},
   "outputs": [],
   "source": [
    "# Reduce the state to something more reasonable.\n",
    "xs = dynamics.reduce_state(xs)\n",
    "\n",
    "# Constrain the actions to see what's actually applied to the system.\n",
    "us = constrain(us, dynamics.min_bounds, dynamics.max_bounds)"
   ]
  },
  {
   "cell_type": "code",
   "execution_count": 11,
   "metadata": {},
   "outputs": [],
   "source": [
    "t = np.arange(N) * dt\n",
    "theta = np.unwrap(xs[:, 0])  # Makes for smoother plots.\n",
    "theta_dot = xs[:, 1]"
   ]
  },
  {
   "cell_type": "code",
   "execution_count": 12,
   "metadata": {},
   "outputs": [
    {
     "data": {
      "image/png": "[encoded data removed]",
      "text/plain": [
       "<Figure size 432x288 with 1 Axes>"
      ]
     },
     "metadata": {
      "needs_background": "light"
     },
     "output_type": "display_data"
    }
   ],
   "source": [
    "_ = plt.plot(theta, theta_dot)\n",
    "_ = plt.xlabel(\"theta (rad)\")\n",
    "_ = plt.ylabel(\"theta_dot (rad/s)\")\n",
    "_ = plt.title(\"Phase Plot\")"
   ]
  },
  {
   "cell_type": "code",
   "execution_count": 13,
   "metadata": {},
   "outputs": [
    {
     "data": {
      "image/png": "[encoded data removed]",
      "text/plain": [
       "<Figure size 432x288 with 1 Axes>"
      ]
     },
     "metadata": {
      "needs_background": "light"
     },
     "output_type": "display_data"
    }
   ],
   "source": [
    "_ = plt.plot(t, us)\n",
    "_ = plt.xlabel(\"time (s)\")\n",
    "_ = plt.ylabel(\"Force (N)\")\n",
    "_ = plt.title(\"Action path\")"
   ]
  },
  {
   "cell_type": "code",
   "execution_count": 14,
   "metadata": {
    "scrolled": true
   },
   "outputs": [
    {
     "data": {
      "image/png": "[encoded data removed]",
      "text/plain": [
       "<Figure size 432x288 with 1 Axes>"
      ]
     },
     "metadata": {
      "needs_background": "light"
     },
     "output_type": "display_data"
    }
   ],
   "source": [
    "_ = plt.plot(J_hist)\n",
    "_ = plt.xlabel(\"Iteration\")\n",
    "_ = plt.ylabel(\"Total cost\")\n",
    "_ = plt.title(\"Total cost-to-go\")"
   ]
  },
  {
   "cell_type": "code",
   "execution_count": null,
   "metadata": {},
   "outputs": [],
   "source": []
  }
 ],
 "metadata": {
  "kernelspec": {
   "display_name": "Python 3",
   "language": "python",
   "name": "python3"
  },
  "language_info": {
   "codemirror_mode": {
    "name": "ipython",
    "version": 3
   },
   "file_extension": ".py",
   "mimetype": "text/x-python",
   "name": "python",
   "nbconvert_exporter": "python",
   "pygments_lexer": "ipython3",
   "version": "3.7.5"
  }
 },
 "nbformat": 4,
 "nbformat_minor": 2
}
